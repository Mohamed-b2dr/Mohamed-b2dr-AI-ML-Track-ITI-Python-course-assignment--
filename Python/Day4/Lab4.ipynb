{
 "cells": [
  {
   "cell_type": "code",
   "execution_count": 1,
   "id": "6d5d6db4",
   "metadata": {},
   "outputs": [],
   "source": [
    "import random"
   ]
  },
  {
   "cell_type": "code",
   "execution_count": 2,
   "id": "f158d1bb",
   "metadata": {},
   "outputs": [],
   "source": [
    "def read_file(file):\n",
    "    f = open(file, \"r\")\n",
    "    words = f.read().split('\\n')\n",
    "    return words"
   ]
  },
  {
   "cell_type": "code",
   "execution_count": 3,
   "id": "62024d9a",
   "metadata": {},
   "outputs": [],
   "source": [
    "def word_randomly(lst):\n",
    "    random_word = random.choice(lst)\n",
    "    return random_word"
   ]
  },
  {
   "cell_type": "code",
   "execution_count": 4,
   "id": "ab42256f",
   "metadata": {},
   "outputs": [],
   "source": [
    "def history_input(history):\n",
    "    while True:\n",
    "        try:\n",
    "            letter = input('\\n enter letter: ')[0].lower()\n",
    "            if letter not in history:\n",
    "                history.append(letter)\n",
    "                break\n",
    "            else:\n",
    "                print('you  entered before: ')\n",
    "        except:\n",
    "            print('enter valid char')\n",
    "    return letter.lower()"
   ]
  },
  {
   "cell_type": "code",
   "execution_count": 5,
   "id": "8fc2ef95",
   "metadata": {},
   "outputs": [],
   "source": [
    "def hiden_words(word, lst_correct):\n",
    "        for i in range(len(word)):\n",
    "            if word[i] in lst_correct:\n",
    "                print(word[i], end ='')\n",
    "            else:\n",
    "                print('-', end ='')"
   ]
  },
  {
   "cell_type": "code",
   "execution_count": 6,
   "id": "e679e55c",
   "metadata": {},
   "outputs": [],
   "source": [
    "checks = lambda  letter, word : True if letter in word else False"
   ]
  },
  {
   "cell_type": "code",
   "execution_count": null,
   "id": "9de1cd98",
   "metadata": {},
   "outputs": [],
   "source": []
  },
  {
   "cell_type": "code",
   "execution_count": 7,
   "id": "01c687f0",
   "metadata": {},
   "outputs": [
    {
     "name": "stdout",
     "output_type": "stream",
     "text": [
      "strengths\n",
      "---------\n",
      " enter letter: KO\n",
      "k is not in word\n",
      "your number of tries 9\n",
      "---------\n",
      " enter letter: SZ\n",
      "s-------s\n",
      " enter letter:  \n",
      "  is not in word\n",
      "your number of tries 8\n",
      "s-------s\n",
      " enter letter:  \n",
      "you  entered before: \n",
      "\n",
      " enter letter: \n",
      "enter valid char\n",
      "\n",
      " enter letter: \n",
      "enter valid char\n",
      "\n",
      " enter letter: J\n",
      "j is not in word\n",
      "your number of tries 7\n",
      "s-------s\n",
      " enter letter: T\n",
      "st----t-s\n",
      " enter letter: RE\n",
      "str---t-s\n",
      " enter letter: E\n",
      "stre--t-s\n",
      " enter letter: N\n",
      "stren-t-s\n",
      " enter letter: G\n",
      "strengt-s\n",
      " enter letter: H\n",
      "You Win\n"
     ]
    }
   ],
   "source": [
    "if __name__ == '__main__':\n",
    "    words = read_file('words.txt')\n",
    "    random_word = word_randomly(words)\n",
    "    correct_list =[]\n",
    "    history = []\n",
    "    tries = 10\n",
    "    print(random_word)\n",
    "    \n",
    "    while tries > 1:\n",
    "        hiden_words(random_word, correct_list)\n",
    "        letter = history_input(history)\n",
    "        if (checks(letter, random_word )):\n",
    "            correct_list.append(letter)\n",
    "            if(set(random_word) == set(correct_list)):\n",
    "                print(\"You Win\")\n",
    "                break\n",
    "        else:\n",
    "            tries -=1\n",
    "            print(letter, 'is not in word')\n",
    "            print ('your number of tries', tries)\n",
    "        \n",
    "    "
   ]
  },
  {
   "cell_type": "code",
   "execution_count": null,
   "id": "e440fdee",
   "metadata": {},
   "outputs": [],
   "source": []
  },
  {
   "cell_type": "code",
   "execution_count": null,
   "id": "ac413ada",
   "metadata": {},
   "outputs": [],
   "source": [
    "checks('k', 'kazoo')"
   ]
  },
  {
   "cell_type": "code",
   "execution_count": null,
   "id": "d66c076a",
   "metadata": {},
   "outputs": [],
   "source": [
    "words[0]"
   ]
  },
  {
   "cell_type": "code",
   "execution_count": null,
   "id": "f59ba7f5",
   "metadata": {},
   "outputs": [],
   "source": [
    "letter = input('enter letter: ')[0]"
   ]
  },
  {
   "cell_type": "markdown",
   "id": "ccc2f19e",
   "metadata": {},
   "source": [
    "10 tries , enter before "
   ]
  },
  {
   "cell_type": "code",
   "execution_count": null,
   "id": "f19bca2b",
   "metadata": {},
   "outputs": [],
   "source": [
    "letter in word"
   ]
  },
  {
   "cell_type": "code",
   "execution_count": null,
   "id": "d44bba30",
   "metadata": {},
   "outputs": [],
   "source": [
    "correct list"
   ]
  },
  {
   "cell_type": "code",
   "execution_count": null,
   "id": "32838b81",
   "metadata": {},
   "outputs": [],
   "source": [
    "hiden_words"
   ]
  },
  {
   "cell_type": "code",
   "execution_count": null,
   "id": "09ff801c",
   "metadata": {},
   "outputs": [],
   "source": [
    "list('mohamed')"
   ]
  },
  {
   "cell_type": "code",
   "execution_count": null,
   "id": "0b078d8b",
   "metadata": {},
   "outputs": [],
   "source": []
  },
  {
   "cell_type": "code",
   "execution_count": null,
   "id": "9250fa2d",
   "metadata": {},
   "outputs": [],
   "source": []
  },
  {
   "cell_type": "code",
   "execution_count": null,
   "id": "52a87afc",
   "metadata": {},
   "outputs": [],
   "source": []
  },
  {
   "cell_type": "code",
   "execution_count": null,
   "id": "66b71bcd",
   "metadata": {},
   "outputs": [],
   "source": []
  },
  {
   "cell_type": "code",
   "execution_count": null,
   "id": "d51b1845",
   "metadata": {},
   "outputs": [],
   "source": []
  },
  {
   "cell_type": "code",
   "execution_count": null,
   "id": "a5222559",
   "metadata": {},
   "outputs": [],
   "source": []
  }
 ],
 "metadata": {
  "kernelspec": {
   "display_name": "Python 3 (ipykernel)",
   "language": "python",
   "name": "python3"
  },
  "language_info": {
   "codemirror_mode": {
    "name": "ipython",
    "version": 3
   },
   "file_extension": ".py",
   "mimetype": "text/x-python",
   "name": "python",
   "nbconvert_exporter": "python",
   "pygments_lexer": "ipython3",
   "version": "3.9.13"
  }
 },
 "nbformat": 4,
 "nbformat_minor": 5
}
