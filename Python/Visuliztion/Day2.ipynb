{
 "cells": [
  {
   "cell_type": "code",
   "execution_count": 1,
   "id": "571eb29c",
   "metadata": {},
   "outputs": [],
   "source": []
  },
  {
   "cell_type": "code",
   "execution_count": null,
   "id": "282adc8b",
   "metadata": {},
   "outputs": [],
   "source": [
    "def coerners(arr):\n",
    "    rigtup = arr[0][0]'\n",
    "    leftup = arr[0][-1]\n",
    "    rightdown = arr[-1][0]\n",
    "    leftdown = arr[-1][-1]\n",
    "    corners = np.array([rigtup, leftup, rightdown, leftdown ])\n",
    "    return corners"
   ]
  },
  {
   "cell_type": "code",
   "execution_count": null,
   "id": "de7ee8be",
   "metadata": {},
   "outputs": [],
   "source": []
  },
  {
   "cell_type": "code",
   "execution_count": null,
   "id": "ac577861",
   "metadata": {},
   "outputs": [],
   "source": [
    "def small_matrix(arr):\n",
    "    shapearr = arr.shape\n",
    "    for i in range(shapearr[0]):\n",
    "        for j in range(shapearr[1]):\n",
    "            "
   ]
  },
  {
   "cell_type": "code",
   "execution_count": 2,
   "id": "a20312f7",
   "metadata": {},
   "outputs": [],
   "source": [
    "A = np.array([[1,2,3,4], [1,2,3,4],[1,2,3,4],[1,2,3,4]])"
   ]
  },
  {
   "cell_type": "code",
   "execution_count": 6,
   "id": "9da930dc",
   "metadata": {},
   "outputs": [],
   "source": [
    "B = np.array([[1,2], [1,2],[1,2], [1,2]])"
   ]
  },
  {
   "cell_type": "code",
   "execution_count": 28,
   "id": "8bb71481",
   "metadata": {},
   "outputs": [
    {
     "data": {
      "text/plain": [
       "array([[1, 2, 3, 4],\n",
       "       [1, 2, 3, 4],\n",
       "       [1, 2, 3, 4],\n",
       "       [1, 2, 3, 4],\n",
       "       [1, 2, 3, 4]])"
      ]
     },
     "execution_count": 28,
     "metadata": {},
     "output_type": "execute_result"
    }
   ],
   "source": [
    "\n",
    "np.append(A,np.array([[1,2,3,4]]), axis =0)"
   ]
  },
  {
   "cell_type": "code",
   "execution_count": 31,
   "id": "1209a607",
   "metadata": {},
   "outputs": [
    {
     "data": {
      "text/plain": [
       "array([[1, 2, 3, 4],\n",
       "       [1, 2, 3, 4],\n",
       "       [1, 2, 3, 4],\n",
       "       [1, 2, 3, 4]])"
      ]
     },
     "execution_count": 31,
     "metadata": {},
     "output_type": "execute_result"
    }
   ],
   "source": [
    "A"
   ]
  },
  {
   "cell_type": "code",
   "execution_count": 2,
   "id": "711b9a1c",
   "metadata": {},
   "outputs": [],
   "source": []
  },
  {
   "cell_type": "code",
   "execution_count": 134,
   "id": "ae8cd707",
   "metadata": {},
   "outputs": [],
   "source": []
  },
  {
   "cell_type": "code",
   "execution_count": null,
   "id": "0a6b9451",
   "metadata": {},
   "outputs": [],
   "source": []
  },
  {
   "cell_type": "code",
   "execution_count": 49,
   "id": "c61cb6da",
   "metadata": {},
   "outputs": [],
   "source": [
    "def task(string):\n",
    "\n",
    "    x, step = np.linspace(0, 20, num=100, retstep =True)\n",
    "    y = eval(string)\n",
    "    plt.plot(x,y)\n",
    "    y_int = integrate.cumtrapz(y,x)\n",
    "    y_int = np.append(y_int, y_int[-1])\n",
    "    \n",
    "    plt.plot(x,y_int)\n",
    "    y_Diff =  (y[1::] - y[0:-1:])/step\n",
    "    plt.plot(x[:-1], y_Diff)\n",
    "    \n",
    "    zero = y[1:]*y[0:-1] <= 0\n",
    "    print(zero)\n",
    "    plt.scatter(x[:-1][zero] ,y[:-1][zero])\n",
    "    \n",
    "    mmax = y_Diff[0:-1]* y_Diff[1:] <= 0\n",
    "    \n",
    "    plt.scatter(x[:-2][mmax] ,y[:-2][mmax])\n",
    "    plt.legend(['orgianl', 'integrition', 'Differentiation'])\n",
    "    plt.show()"
   ]
  },
  {
   "cell_type": "code",
   "execution_count": 50,
   "id": "4e260f93",
   "metadata": {},
   "outputs": [
    {
     "data": {
      "image/png": "[encoded data removed]",
      "text/plain": [
       "<Figure size 432x288 with 1 Axes>"
      ]
     },
     "metadata": {
      "needs_background": "light"
     },
     "output_type": "display_data"
    }
   ],
   "source": [
    "task('r**2 - x**2' )"
   ]
  },
  {
   "cell_type": "code",
   "execution_count": 51,
   "id": "23ac03aa",
   "metadata": {},
   "outputs": [],
   "source": [
    "def task(string):\n",
    "    x = np.linspace(-2, 2) \n",
    "    r = 2   \n",
    "    y = np.sqrt(eval(string))\n",
    "    plt.plot(x,y)\n",
    "    plt.plot(x, -y)\n",
    "    plt.axis('equal')\n",
    "    plt.show()"
   ]
  },
  {
   "cell_type": "code",
   "execution_count": 52,
   "id": "28338ab1",
   "metadata": {},
   "outputs": [
    {
     "data": {
      "image/png": "[encoded data removed]",
      "text/plain": [
       "<Figure size 432x288 with 1 Axes>"
      ]
     },
     "metadata": {
      "needs_background": "light"
     },
     "output_type": "display_data"
    }
   ],
   "source": [
    "task('r**2 - x**2' )"
   ]
  },
  {
   "cell_type": "code",
   "execution_count": 82,
   "id": "99bfb79b",
   "metadata": {},
   "outputs": [],
   "source": [
    "def task(r):\n",
    "    e = np.arange(0, 2*180) \n",
    "    x = r*np.sin(e)  \n",
    "    y = r*np.cos(e)\n",
    "    plt.plot(x,y)\n",
    "    plt.show()"
   ]
  },
  {
   "cell_type": "code",
   "execution_count": 83,
   "id": "ddbcffff",
   "metadata": {},
   "outputs": [
    {
     "data": {
      "image/png": "[encoded data removed]",
      "text/plain": [
       "<Figure size 432x288 with 1 Axes>"
      ]
     },
     "metadata": {
      "needs_background": "light"
     },
     "output_type": "display_data"
    }
   ],
   "source": [
    "task(2)"
   ]
  },
  {
   "cell_type": "code",
   "execution_count": null,
   "id": "8680e9ff",
   "metadata": {},
   "outputs": [],
   "source": []
  },
  {
   "cell_type": "code",
   "execution_count": 3,
   "id": "4f5ef4e1",
   "metadata": {},
   "outputs": [],
   "source": [
    "def spura(r, num):\n",
    "        e = np.linspace(0, 2*np.pi*num, 100) \n",
    "        r= np.linspace(0, r, 100)\n",
    "        x = r*np.sin(e)  \n",
    "        y = r*np.cos(e)\n",
    "        plt.plot(x,y);"
   ]
  },
  {
   "cell_type": "code",
   "execution_count": 4,
   "id": "7fbf04c7",
   "metadata": {},
   "outputs": [
    {
     "data": {
      "image/png": "[encoded data removed]",
      "text/plain": [
       "<Figure size 432x288 with 1 Axes>"
      ]
     },
     "metadata": {
      "needs_background": "light"
     },
     "output_type": "display_data"
    }
   ],
   "source": [
    "spura(2, 2)"
   ]
  },
  {
   "cell_type": "code",
   "execution_count": 5,
   "id": "9b521b8a",
   "metadata": {},
   "outputs": [
    {
     "data": {
      "image/png": "[encoded data removed]",
      "text/plain": [
       "<Figure size 432x288 with 1 Axes>"
      ]
     },
     "metadata": {
      "needs_background": "light"
     },
     "output_type": "display_data"
    }
   ],
   "source": [
    "x = np.linspace(1,-1,100) \n",
    "r = 1\n",
    "y = np.sqrt(r**2 - x**2) + 4\n",
    "plt.plot(x,y)\n",
    "plt.plot(x+2*r,y)\n",
    "line1 = np.linspace(, 4,100)\n",
    "line2 = np.linspace(4,3,100)\n",
    "plt.plot(np.linspace(1, 3,100),line1 )\n",
    "plt.plot(np.linspace(-1, 1,100),line2 );\n"
   ]
  },
  {
   "cell_type": "code",
   "execution_count": 2,
   "id": "01b5b463",
   "metadata": {},
   "outputs": [],
   "source": []
  },
  {
   "cell_type": "code",
   "execution_count": 3,
   "id": "5e92a356",
   "metadata": {},
   "outputs": [],
   "source": [
    "def spura(r, num):\n",
    "        e = np.linspace(0, 2*np.pi*num, 100) \n",
    "        r= np.linspace(0, r, 100)\n",
    "        x = r*np.sin(e)  \n",
    "        y = r*np.cos(e)\n",
    "        return x,y"
   ]
  },
  {
   "cell_type": "code",
   "execution_count": 10,
   "id": "2565a80d",
   "metadata": {},
   "outputs": [],
   "source": [
    "x, y = spura(2, 8)"
   ]
  },
  {
   "cell_type": "code",
   "execution_count": 26,
   "id": "b44284ca",
   "metadata": {},
   "outputs": [
    {
     "ename": "NameError",
     "evalue": "name 'x' is not defined",
     "output_type": "error",
     "traceback": [
      "\u001b[1;31m---------------------------------------------------------------------------\u001b[0m",
      "\u001b[1;31mNameError\u001b[0m                                 Traceback (most recent call last)",
      "Cell \u001b[1;32mIn [26], line 2\u001b[0m\n\u001b[0;32m      1\u001b[0m plt\u001b[38;5;241m.\u001b[39maxis([\u001b[38;5;241m-\u001b[39m\u001b[38;5;241m2\u001b[39m, \u001b[38;5;241m2\u001b[39m, \u001b[38;5;241m-\u001b[39m\u001b[38;5;241m2\u001b[39m, \u001b[38;5;241m2\u001b[39m])\n\u001b[1;32m----> 2\u001b[0m line \u001b[38;5;241m=\u001b[39m plt\u001b[38;5;241m.\u001b[39mplot(\u001b[43mx\u001b[49m[\u001b[38;5;241m0\u001b[39m],y[\u001b[38;5;241m0\u001b[39m])\n\u001b[0;32m      4\u001b[0m \u001b[38;5;28;01mfor\u001b[39;00m i \u001b[38;5;129;01min\u001b[39;00m \u001b[38;5;28mrange\u001b[39m(\u001b[38;5;241m1\u001b[39m,\u001b[38;5;28mlen\u001b[39m(x)):\n\u001b[0;32m      5\u001b[0m     plt\u001b[38;5;241m.\u001b[39msetp(line, xdata \u001b[38;5;241m=\u001b[39mx[:i],  ydata \u001b[38;5;241m=\u001b[39m y[:i])\n",
      "\u001b[1;31mNameError\u001b[0m: name 'x' is not defined"
     ]
    }
   ],
   "source": [
    "plt.axis([-2, 2, -2, 2])\n",
    "line = plt.plot(x[0],y[0])\n",
    "\n",
    "for i in range(1,len(x)):\n",
    "    plt.setp(line, xdata =x[:i],  ydata = y[:i])\n",
    "    plt.pause(0.01)"
   ]
  },
  {
   "cell_type": "code",
   "execution_count": 104,
   "id": "dafa4d27",
   "metadata": {},
   "outputs": [
    {
     "data": {
      "text/plain": [
       "Text(0.5, 0.92, 'Christmas Tree')"
      ]
     },
     "execution_count": 104,
     "metadata": {},
     "output_type": "execute_result"
    }
   ],
   "source": []
  },
  {
   "cell_type": "code",
   "execution_count": 18,
   "id": "91fbcafd",
   "metadata": {},
   "outputs": [],
   "source": [
    "import numpy as np\n",
    "import sympy\n",
    "from scipy import integrate\n",
    "import matplotlib.pyplot as plt\n",
    "%matplotlib qt\n",
    "plt.style.use('seaborn')"
   ]
  },
  {
   "cell_type": "code",
   "execution_count": null,
   "id": "7d55ad00",
   "metadata": {},
   "outputs": [],
   "source": [
    "def tree(r, num):\n",
    "        r= np.linspace( 0,r, 100)\n",
    "        x = np.linspace(2*np.pi*num, 0, 100) \n",
    "        y = r*np.sin(x)  \n",
    "        z = r*np.cos(x)\n",
    "        ax =plt.axes(projection='3d')\n",
    "        ax.plot(y,z,x, linewidth = 2.5)\n",
    "        ax.scatter( y[-1], z[-1], x[-1], c = 'r', markersize=250, marker ='*')\n",
    "        ax.show()"
   ]
  },
  {
   "cell_type": "code",
   "execution_count": null,
   "id": "7ccf6ac6",
   "metadata": {},
   "outputs": [],
   "source": []
  },
  {
   "cell_type": "code",
   "execution_count": null,
   "id": "8301c250",
   "metadata": {},
   "outputs": [],
   "source": []
  },
  {
   "cell_type": "code",
   "execution_count": null,
   "id": "01b302bb",
   "metadata": {},
   "outputs": [],
   "source": []
  },
  {
   "cell_type": "code",
   "execution_count": 116,
   "id": "8db0bdcd",
   "metadata": {},
   "outputs": [],
   "source": [
    "def tree(r, num):\n",
    "    ax = plt.axes(projection='3d')\n",
    "    x=np.linspace(-np.pi*num, np.pi*num, 200) \n",
    "    r = np.linspace( r,0, 200)\n",
    "    z = r* np.sin(x)\n",
    "    y = r* np.cos(x)\n",
    "\n",
    "    ax.plot(y, z, x,\n",
    "            c='green', linewidth=2.5)\n",
    "\n",
    "    ax.scatter(y[-1], z[-1], x[-1],\n",
    "               c='yellow', s=250, marker='*')\n",
    "\n",
    "    ax.scatter(y[0:198:20], z[0:198:20], z[0:198:20],\n",
    "                 s = 200,marker='.')\n",
    "\n",
    "    plt.title('Christmas Tree')"
   ]
  },
  {
   "cell_type": "code",
   "execution_count": 122,
   "id": "b691ac36",
   "metadata": {},
   "outputs": [],
   "source": [
    "tree(2, 8)"
   ]
  },
  {
   "cell_type": "code",
   "execution_count": null,
   "id": "0564ba5a",
   "metadata": {},
   "outputs": [],
   "source": [
    "ax.scatter("
   ]
  },
  {
   "cell_type": "code",
   "execution_count": 132,
   "id": "05c1cd57",
   "metadata": {},
   "outputs": [],
   "source": []
  },
  {
   "cell_type": "code",
   "execution_count": 150,
   "id": "231872a7",
   "metadata": {},
   "outputs": [],
   "source": []
  },
  {
   "cell_type": "code",
   "execution_count": null,
   "id": "98fab0e2",
   "metadata": {},
   "outputs": [],
   "source": []
  },
  {
   "cell_type": "code",
   "execution_count": 210,
   "id": "5ab8654c",
   "metadata": {},
   "outputs": [],
   "source": [
    "#ax = plt.plot(t[0],y[0])\n",
    "t = np.arange(0,25, 0.01)\n",
    "vo = 15\n",
    "yo = 10\n",
    "tt =0\n",
    "g =9.8\n",
    "y = np.zeros(len(t))\n",
    "V = np.zeros(len(t))\n",
    "#v = vo-9.8*t\n",
    "#y = yo +vo*t+(1/2)*-9.8*t**2"
   ]
  },
  {
   "cell_type": "code",
   "execution_count": 1,
   "id": "d46fc581",
   "metadata": {},
   "outputs": [
    {
     "ename": "SyntaxError",
     "evalue": "invalid syntax (2272403546.py, line 10)",
     "output_type": "error",
     "traceback": [
      "\u001b[1;36m  Cell \u001b[1;32mIn [1], line 10\u001b[1;36m\u001b[0m\n\u001b[1;33m    tt + = 0.01\u001b[0m\n\u001b[1;37m         ^\u001b[0m\n\u001b[1;31mSyntaxError\u001b[0m\u001b[1;31m:\u001b[0m invalid syntax\n"
     ]
    }
   ],
   "source": [
    "for i in range(len(t)):\n",
    "    v[i] = g*tt + vo\n",
    "    y[i] = 0.5*g*tt**2 + vo*tt+yo\n",
    "    if y[i] <= 0:\n",
    "        v[i] = -0.8*v[i]\n",
    "        y[i] = 0\n",
    "        vo = v[i]\n",
    "        yo = 0\n",
    "        tt = 0\n",
    "    tt += 0.01\n",
    "plt.plot(t,y)   "
   ]
  },
  {
   "cell_type": "code",
   "execution_count": 224,
   "id": "d5e2c25a",
   "metadata": {},
   "outputs": [
    {
     "name": "stdout",
     "output_type": "stream",
     "text": [
      "Warning: Cannot change to a different GUI toolkit: notebook. Using qt instead.\n"
     ]
    }
   ],
   "source": [
    "g = 9.8\n",
    "y = 0 # y0\n",
    "v = 15 # v0\n",
    "t = 0\n",
    "y = [0]\n",
    "for i in range(25):\n",
    "        if (y[-1] <= 0 and v < 0):\n",
    "                v = -0.1*v \n",
    "        v = v - g*0.01    \n",
    "        y.append(y[-1] + v*0.01)  \n",
    "        t = t + 0.01 \n",
    "\n",
    "\n",
    "%matplotlib notebook\n",
    "import matplotlib.pyplot as plt\n",
    "plt.plot(y, linewidth=4, label='height')\n",
    "plt.show()\n"
   ]
  },
  {
   "cell_type": "code",
   "execution_count": 219,
   "id": "750c5e9e",
   "metadata": {},
   "outputs": [
    {
     "ename": "ValueError",
     "evalue": "x and y must have same first dimension, but have shapes (1,) and (0,)",
     "output_type": "error",
     "traceback": [
      "\u001b[1;31m---------------------------------------------------------------------------\u001b[0m",
      "\u001b[1;31mValueError\u001b[0m                                Traceback (most recent call last)",
      "Cell \u001b[1;32mIn [219], line 1\u001b[0m\n\u001b[1;32m----> 1\u001b[0m ax \u001b[38;5;241m=\u001b[39m \u001b[43mplt\u001b[49m\u001b[38;5;241;43m.\u001b[39;49m\u001b[43mplot\u001b[49m\u001b[43m(\u001b[49m\u001b[43mt\u001b[49m\u001b[43m,\u001b[49m\u001b[43my\u001b[49m\u001b[43m)\u001b[49m\n",
      "File \u001b[1;32mD:\\Anaconda\\lib\\site-packages\\matplotlib\\pyplot.py:2757\u001b[0m, in \u001b[0;36mplot\u001b[1;34m(scalex, scaley, data, *args, **kwargs)\u001b[0m\n\u001b[0;32m   2755\u001b[0m \u001b[38;5;129m@_copy_docstring_and_deprecators\u001b[39m(Axes\u001b[38;5;241m.\u001b[39mplot)\n\u001b[0;32m   2756\u001b[0m \u001b[38;5;28;01mdef\u001b[39;00m \u001b[38;5;21mplot\u001b[39m(\u001b[38;5;241m*\u001b[39margs, scalex\u001b[38;5;241m=\u001b[39m\u001b[38;5;28;01mTrue\u001b[39;00m, scaley\u001b[38;5;241m=\u001b[39m\u001b[38;5;28;01mTrue\u001b[39;00m, data\u001b[38;5;241m=\u001b[39m\u001b[38;5;28;01mNone\u001b[39;00m, \u001b[38;5;241m*\u001b[39m\u001b[38;5;241m*\u001b[39mkwargs):\n\u001b[1;32m-> 2757\u001b[0m     \u001b[38;5;28;01mreturn\u001b[39;00m gca()\u001b[38;5;241m.\u001b[39mplot(\n\u001b[0;32m   2758\u001b[0m         \u001b[38;5;241m*\u001b[39margs, scalex\u001b[38;5;241m=\u001b[39mscalex, scaley\u001b[38;5;241m=\u001b[39mscaley,\n\u001b[0;32m   2759\u001b[0m         \u001b[38;5;241m*\u001b[39m\u001b[38;5;241m*\u001b[39m({\u001b[38;5;124m\"\u001b[39m\u001b[38;5;124mdata\u001b[39m\u001b[38;5;124m\"\u001b[39m: data} \u001b[38;5;28;01mif\u001b[39;00m data \u001b[38;5;129;01mis\u001b[39;00m \u001b[38;5;129;01mnot\u001b[39;00m \u001b[38;5;28;01mNone\u001b[39;00m \u001b[38;5;28;01melse\u001b[39;00m {}), \u001b[38;5;241m*\u001b[39m\u001b[38;5;241m*\u001b[39mkwargs)\n",
      "File \u001b[1;32mD:\\Anaconda\\lib\\site-packages\\matplotlib\\axes\\_axes.py:1632\u001b[0m, in \u001b[0;36mAxes.plot\u001b[1;34m(self, scalex, scaley, data, *args, **kwargs)\u001b[0m\n\u001b[0;32m   1390\u001b[0m \u001b[38;5;124;03m\"\"\"\u001b[39;00m\n\u001b[0;32m   1391\u001b[0m \u001b[38;5;124;03mPlot y versus x as lines and/or markers.\u001b[39;00m\n\u001b[0;32m   1392\u001b[0m \n\u001b[1;32m   (...)\u001b[0m\n\u001b[0;32m   1629\u001b[0m \u001b[38;5;124;03m(``'green'``) or hex strings (``'#008000'``).\u001b[39;00m\n\u001b[0;32m   1630\u001b[0m \u001b[38;5;124;03m\"\"\"\u001b[39;00m\n\u001b[0;32m   1631\u001b[0m kwargs \u001b[38;5;241m=\u001b[39m cbook\u001b[38;5;241m.\u001b[39mnormalize_kwargs(kwargs, mlines\u001b[38;5;241m.\u001b[39mLine2D)\n\u001b[1;32m-> 1632\u001b[0m lines \u001b[38;5;241m=\u001b[39m [\u001b[38;5;241m*\u001b[39m\u001b[38;5;28mself\u001b[39m\u001b[38;5;241m.\u001b[39m_get_lines(\u001b[38;5;241m*\u001b[39margs, data\u001b[38;5;241m=\u001b[39mdata, \u001b[38;5;241m*\u001b[39m\u001b[38;5;241m*\u001b[39mkwargs)]\n\u001b[0;32m   1633\u001b[0m \u001b[38;5;28;01mfor\u001b[39;00m line \u001b[38;5;129;01min\u001b[39;00m lines:\n\u001b[0;32m   1634\u001b[0m     \u001b[38;5;28mself\u001b[39m\u001b[38;5;241m.\u001b[39madd_line(line)\n",
      "File \u001b[1;32mD:\\Anaconda\\lib\\site-packages\\matplotlib\\axes\\_base.py:312\u001b[0m, in \u001b[0;36m_process_plot_var_args.__call__\u001b[1;34m(self, data, *args, **kwargs)\u001b[0m\n\u001b[0;32m    310\u001b[0m     this \u001b[38;5;241m+\u001b[39m\u001b[38;5;241m=\u001b[39m args[\u001b[38;5;241m0\u001b[39m],\n\u001b[0;32m    311\u001b[0m     args \u001b[38;5;241m=\u001b[39m args[\u001b[38;5;241m1\u001b[39m:]\n\u001b[1;32m--> 312\u001b[0m \u001b[38;5;28;01myield from\u001b[39;00m \u001b[38;5;28;43mself\u001b[39;49m\u001b[38;5;241;43m.\u001b[39;49m\u001b[43m_plot_args\u001b[49m\u001b[43m(\u001b[49m\u001b[43mthis\u001b[49m\u001b[43m,\u001b[49m\u001b[43m \u001b[49m\u001b[43mkwargs\u001b[49m\u001b[43m)\u001b[49m\n",
      "File \u001b[1;32mD:\\Anaconda\\lib\\site-packages\\matplotlib\\axes\\_base.py:498\u001b[0m, in \u001b[0;36m_process_plot_var_args._plot_args\u001b[1;34m(self, tup, kwargs, return_kwargs)\u001b[0m\n\u001b[0;32m    495\u001b[0m     \u001b[38;5;28mself\u001b[39m\u001b[38;5;241m.\u001b[39maxes\u001b[38;5;241m.\u001b[39myaxis\u001b[38;5;241m.\u001b[39mupdate_units(y)\n\u001b[0;32m    497\u001b[0m \u001b[38;5;28;01mif\u001b[39;00m x\u001b[38;5;241m.\u001b[39mshape[\u001b[38;5;241m0\u001b[39m] \u001b[38;5;241m!=\u001b[39m y\u001b[38;5;241m.\u001b[39mshape[\u001b[38;5;241m0\u001b[39m]:\n\u001b[1;32m--> 498\u001b[0m     \u001b[38;5;28;01mraise\u001b[39;00m \u001b[38;5;167;01mValueError\u001b[39;00m(\u001b[38;5;124mf\u001b[39m\u001b[38;5;124m\"\u001b[39m\u001b[38;5;124mx and y must have same first dimension, but \u001b[39m\u001b[38;5;124m\"\u001b[39m\n\u001b[0;32m    499\u001b[0m                      \u001b[38;5;124mf\u001b[39m\u001b[38;5;124m\"\u001b[39m\u001b[38;5;124mhave shapes \u001b[39m\u001b[38;5;132;01m{\u001b[39;00mx\u001b[38;5;241m.\u001b[39mshape\u001b[38;5;132;01m}\u001b[39;00m\u001b[38;5;124m and \u001b[39m\u001b[38;5;132;01m{\u001b[39;00my\u001b[38;5;241m.\u001b[39mshape\u001b[38;5;132;01m}\u001b[39;00m\u001b[38;5;124m\"\u001b[39m)\n\u001b[0;32m    500\u001b[0m \u001b[38;5;28;01mif\u001b[39;00m x\u001b[38;5;241m.\u001b[39mndim \u001b[38;5;241m>\u001b[39m \u001b[38;5;241m2\u001b[39m \u001b[38;5;129;01mor\u001b[39;00m y\u001b[38;5;241m.\u001b[39mndim \u001b[38;5;241m>\u001b[39m \u001b[38;5;241m2\u001b[39m:\n\u001b[0;32m    501\u001b[0m     \u001b[38;5;28;01mraise\u001b[39;00m \u001b[38;5;167;01mValueError\u001b[39;00m(\u001b[38;5;124mf\u001b[39m\u001b[38;5;124m\"\u001b[39m\u001b[38;5;124mx and y can be no greater than 2D, but have \u001b[39m\u001b[38;5;124m\"\u001b[39m\n\u001b[0;32m    502\u001b[0m                      \u001b[38;5;124mf\u001b[39m\u001b[38;5;124m\"\u001b[39m\u001b[38;5;124mshapes \u001b[39m\u001b[38;5;132;01m{\u001b[39;00mx\u001b[38;5;241m.\u001b[39mshape\u001b[38;5;132;01m}\u001b[39;00m\u001b[38;5;124m and \u001b[39m\u001b[38;5;132;01m{\u001b[39;00my\u001b[38;5;241m.\u001b[39mshape\u001b[38;5;132;01m}\u001b[39;00m\u001b[38;5;124m\"\u001b[39m)\n",
      "\u001b[1;31mValueError\u001b[0m: x and y must have same first dimension, but have shapes (1,) and (0,)"
     ]
    }
   ],
   "source": [
    "ax = plt.plot(t,y)"
   ]
  },
  {
   "cell_type": "code",
   "execution_count": null,
   "id": "c66eb72e",
   "metadata": {},
   "outputs": [],
   "source": [
    "-1.0"
   ]
  }
 ],
 "metadata": {
  "kernelspec": {
   "display_name": "Python 3 (ipykernel)",
   "language": "python",
   "name": "python3"
  },
  "language_info": {
   "codemirror_mode": {
    "name": "ipython",
    "version": 3
   },
   "file_extension": ".py",
   "mimetype": "text/x-python",
   "name": "python",
   "nbconvert_exporter": "python",
   "pygments_lexer": "ipython3",
   "version": "3.9.13"
  }
 },
 "nbformat": 4,
 "nbformat_minor": 5
}
